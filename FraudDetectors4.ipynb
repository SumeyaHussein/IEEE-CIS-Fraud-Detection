{
 "cells": [
  {
   "cell_type": "markdown",
   "metadata": {},
   "source": [
    "# this is for phase 4 and 5"
   ]
  },
  {
   "cell_type": "code",
   "execution_count": null,
   "metadata": {},
   "outputs": [],
   "source": [
    "import numpy as np \n",
    "import pandas as pd\n",
    "import matplotlib.pyplot as plt\n",
    "import seaborn as sns"
   ]
  },
  {
   "cell_type": "code",
   "execution_count": null,
   "metadata": {},
   "outputs": [],
   "source": [
    "# Nirjala\n",
    "import os\n",
    "import pandas as pd\n",
    "#import kagglehub\n",
    "\n",
    "# Download the dataset\n",
    "path = r\"/Users/nirjalagurung/fraud\"\n",
    "# List all files in the downloaded directory\n",
    "print(\"Files in dataset directory:\", os.listdir(path))\n",
    "\n",
    "# Load the CSV file (assuming it is named fraudTest.csv in the downloaded files)\n",
    "csv_path = os.path.join(path, \"fraudTest.csv\")\n",
    "df = pd.read_csv(csv_path)\n",
    "\n",
    "# Display the DataFrame\n",
    "print(df.head())"
   ]
  },
  {
   "cell_type": "code",
   "execution_count": null,
   "metadata": {},
   "outputs": [],
   "source": [
    "#Spandana runs this <using fraudTrain>\n",
    "import os\n",
    "import pandas as pd\n",
    "#import kagglehub\n",
    "\n",
    "# Download the dataset\n",
    "path = r\"C:\\Users\\Thinking1\\vsc_workspace\\FDS\"\n",
    "\n",
    "# List all files in the downloaded directory\n",
    "print(\"Files in dataset directory:\", os.listdir(path))\n",
    "\n",
    "# Load the CSV file (assuming it is named fraudTest.csv in the downloaded files)\n",
    "csv_path = os.path.join(path, \"fraudTrain.csv\")\n",
    "df = pd.read_csv(csv_path)\n",
    "\n",
    "# Display the DataFrame\n",
    "print(df.head())"
   ]
  },
  {
   "cell_type": "code",
   "execution_count": null,
   "metadata": {},
   "outputs": [],
   "source": [
    "#encoding\n",
    "import pandas as pd\n",
    "from sklearn.preprocessing import LabelEncoder\n",
    "\n",
    "# Load the dataset\n",
    "#df = pd.read_csv(\"fraudTrain.csv\")\n",
    "\n",
    "# Drop only the specified columns that should not be processed\n",
    "drop_columns = ['first', 'last', 'dob', 'trans_num']\n",
    "df = df.drop(columns=drop_columns, errors='ignore')\n",
    "\n",
    "# List the categorical columns that need to be processed (manually given in the problem)\n",
    "categorical_columns = ['trans_date_trans_time', 'merchant', 'category', 'street', 'city', 'state', 'job']\n",
    "\n",
    "# Print the categorical columns to confirm\n",
    "print(\"Categorical columns to be processed:\")\n",
    "print(categorical_columns)\n",
    "\n",
    "# Check cardinality\n",
    "# Calculate the number of unique values for each categorical column\n",
    "cardinality = df[categorical_columns].nunique()\n",
    "\n",
    "# Separate columns based on their cardinality\n",
    "high_cardinality = cardinality[cardinality > 50].index\n",
    "low_cardinality = cardinality[cardinality <= 50].index\n",
    "\n",
    "# Print identified columns\n",
    "print(\"\\nHigh cardinality columns (more than 50 unique values):\")\n",
    "print(high_cardinality.tolist())\n",
    "print(\"\\nLow cardinality columns (50 or fewer unique values):\")\n",
    "print(low_cardinality.tolist())\n",
    "\n",
    "# Apply label encoding for high-cardinality columns\n",
    "label_encoder = LabelEncoder()\n",
    "for col in high_cardinality:\n",
    "    print(f\"Applying label encoding to high cardinality column: {col}\")\n",
    "    df[col] = label_encoder.fit_transform(df[col])\n",
    "\n",
    "# Apply one-hot encoding for low-cardinality columns\n",
    "print(\"\\nApplying one-hot encoding to low cardinality columns...\")\n",
    "df_encoded = pd.get_dummies(df, columns=low_cardinality, drop_first=True)\n",
    "\n",
    "# Inspect the updated DataFrame\n",
    "print(\"\\nFinal DataFrame shape:\", df_encoded.shape)\n",
    "print(df_encoded.head())\n",
    "\n",
    "#uncomment to write processed data to new file\n",
    "#df.to_csv(\"fraudTrain_processed.csv\", index=False)\n"
   ]
  },
  {
   "cell_type": "code",
   "execution_count": null,
   "metadata": {},
   "outputs": [],
   "source": [
    "#normalizing scaling numerical columns \n",
    "import pandas as pd\n",
    "from sklearn.preprocessing import MinMaxScaler\n",
    "\n",
    "# Load the dataset\n",
    "#df = pd.read_csv(\"fraudTrain.csv\")\n",
    "\n",
    "# Dropping unnecessary columns\n",
    "columns_to_drop = ['dob','trans_num']\n",
    "df = df.drop(columns=columns_to_drop, errors='ignore')\n",
    "\n",
    "# Identifying numerical columns\n",
    "numerical_columns = df.select_dtypes(include=['float64', 'int64']).columns\n",
    "numerical_columns = numerical_columns.drop('is_fraud', errors='ignore')\n",
    "\n",
    "# Initialize MinMaxScaler\n",
    "scaler = MinMaxScaler()\n",
    "\n",
    "# Normalizing the numerical columns\n",
    "df[numerical_columns] = scaler.fit_transform(df[numerical_columns])\n",
    "\n",
    "# Inspect the updated DataFrame\n",
    "print(\"Normalized numerical columns:\")\n",
    "print(df[numerical_columns].head())\n",
    "\n",
    "# uncomment to write to the new file from codeblock above too\n",
    "#df.to_csv(\"fraudTrain_processed.csv\", index=False)\n"
   ]
  },
  {
   "cell_type": "code",
   "execution_count": null,
   "metadata": {},
   "outputs": [],
   "source": [
    "from sklearn.model_selection import train_test_split\n",
    "X = df.drop('is_fraud', axis=1)\n",
    "y = df['is_fraud']\n",
    "\n",
    "# Train-test split\n",
    "X_train, X_test, y_train, y_test = train_test_split(X, y, test_size=0.2, random_state=42)\n",
    "\n",
    "print(f\"Training set size: {X_train.shape}\")\n",
    "print(f\"Test set size: {X_test.shape}\")"
   ]
  },
  {
   "cell_type": "code",
   "execution_count": null,
   "metadata": {},
   "outputs": [],
   "source": [
    "from sklearn.ensemble import RandomForestClassifier\n",
    "from sklearn.metrics import accuracy_score\n",
    "\n",
    "# Train and evaluate Random Forest model\n",
    "rf_model = RandomForestClassifier(n_estimators=100, random_state=42)\n",
    "rf_model.fit(X_train, y_train)\n",
    "y_pred_rf = rf_model.predict(X_test)\n",
    "\n",
    "print(\"Random Forest Accuracy:\", accuracy_score(y_test, y_pred_rf))"
   ]
  },
  {
   "cell_type": "markdown",
   "metadata": {},
   "source": [
    "import the new-cleaned csv files for model selection and evalution "
   ]
  },
  {
   "cell_type": "markdown",
   "metadata": {},
   "source": []
  },
  {
   "cell_type": "markdown",
   "metadata": {},
   "source": [
    "Phase 4: Model Selection and Evaluation\n"
   ]
  },
  {
   "cell_type": "markdown",
   "metadata": {},
   "source": [
    "Train your models using a train/test split and apply appropriate\n",
    "evaluation metrics\n"
   ]
  },
  {
   "cell_type": "markdown",
   "metadata": {},
   "source": [
    "Implement evaluation metrics not included in standard libraries if\n",
    "applicable"
   ]
  },
  {
   "cell_type": "markdown",
   "metadata": {},
   "source": [
    "Choose a baseline model and test it"
   ]
  },
  {
   "cell_type": "markdown",
   "metadata": {},
   "source": [
    "Test at least three categories of learning models, such as:\n",
    "✓ Information-based models: Decision Trees, Random Forest\n",
    "✓ Similarity-based models: K-Nearest Neighbors\n",
    "✓ Probability-based models: Naive Bayes\n",
    "✓ Error-based models: Linear Regression, Logistic Regression"
   ]
  },
  {
   "cell_type": "markdown",
   "metadata": {},
   "source": [
    "You are encouraged to explore other models (not covered in our\n",
    "class)"
   ]
  },
  {
   "cell_type": "markdown",
   "metadata": {},
   "source": [
    "Apply hyper-parameter optimization (preferably using grid search)"
   ]
  },
  {
   "cell_type": "markdown",
   "metadata": {},
   "source": [
    "Select and justify the recommended model based on performance,\n",
    "interpretability, efficiency, etc"
   ]
  },
  {
   "cell_type": "markdown",
   "metadata": {},
   "source": [
    "Phase 5: Communicate Findings and Recommend an Action"
   ]
  },
  {
   "cell_type": "markdown",
   "metadata": {},
   "source": [
    "Analyze model results, demonstrate relationships between features\n",
    "and the target variable, and recommend actions based on your find-\n",
    "ings"
   ]
  }
 ],
 "metadata": {
  "kernelspec": {
   "display_name": "Python 3",
   "language": "python",
   "name": "python3"
  },
  "language_info": {
   "codemirror_mode": {
    "name": "ipython",
    "version": 3
   },
   "file_extension": ".py",
   "mimetype": "text/x-python",
   "name": "python",
   "nbconvert_exporter": "python",
   "pygments_lexer": "ipython3",
   "version": "3.11.7"
  }
 },
 "nbformat": 4,
 "nbformat_minor": 2
}
