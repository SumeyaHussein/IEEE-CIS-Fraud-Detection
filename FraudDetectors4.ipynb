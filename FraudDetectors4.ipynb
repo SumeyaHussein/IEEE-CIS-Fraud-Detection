{
 "cells": [
  {
   "cell_type": "markdown",
   "metadata": {},
   "source": [
    "# this is for phase 4 and 5"
   ]
  },
  {
   "cell_type": "code",
   "execution_count": null,
   "metadata": {},
   "outputs": [],
   "source": [
    "import numpy as np \n",
    "import pandas as pd\n",
    "import matplotlib.pyplot as plt\n",
    "import seaborn as sns"
   ]
  },
  {
   "cell_type": "code",
   "execution_count": null,
   "metadata": {},
   "outputs": [],
   "source": [
    "# Nirjala\n",
    "import os\n",
    "import pandas as pd\n",
    "#import kagglehub\n",
    "\n",
    "# Download the dataset\n",
    "path = r\"/Users/nirjalagurung/fraud\"\n",
    "# List all files in the downloaded directory\n",
    "print(\"Files in dataset directory:\", os.listdir(path))\n",
    "\n",
    "# Load the CSV file (assuming it is named fraudTest.csv in the downloaded files)\n",
    "csv_path = os.path.join(path, \"fraudTest.csv\")#use fraudTrain_processed.csv\n",
    "df = pd.read_csv(csv_path)\n",
    "\n",
    "# Display the DataFrame\n",
    "print(df.head())"
   ]
  },
  {
   "cell_type": "code",
   "execution_count": null,
   "metadata": {},
   "outputs": [],
   "source": [
    "#Spandana runs this <using fraudTrain>\n",
    "import os\n",
    "import pandas as pd\n",
    "#import kagglehub\n",
    "\n",
    "# Download the dataset\n",
    "path = r\"C:\\Users\\Thinking1\\vsc_workspace\\FDS\"\n",
    "\n",
    "# List all files in the downloaded directory\n",
    "print(\"Files in dataset directory:\", os.listdir(path))\n",
    "\n",
    "# Load the CSV file (assuming it is named fraudTest.csv in the downloaded files)\n",
    "csv_path = os.path.join(path, \"fraudTrain_processed.csv\")\n",
    "df = pd.read_csv(csv_path)\n",
    "\n",
    "# Display the DataFrame\n",
    "print(df.head())"
   ]
  },
  {
   "cell_type": "code",
   "execution_count": null,
   "metadata": {},
   "outputs": [],
   "source": [
    "import os\n",
    "import pandas as pd\n",
    "import kagglehub\n",
    "\n",
    "# Download the dataset\n",
    "path = kagglehub.dataset_download(\"kartik2112/fraud-detection\")\n",
    "print(\"Path to dataset files:\", path)\n",
    "\n",
    "# List all files in the downloaded directory\n",
    "print(\"Files in dataset directory:\", os.listdir(path))\n",
    "\n",
    "# Load the CSV file (assuming it is named fraudTest.csv in the downloaded files)\n",
    "csv_path = os.path.join(path, \"fraudTest.csv\")#use fraudTrain_processed.csv\n",
    "df = pd.read_csv(csv_path)\n",
    "\n",
    "# Display the DataFrame\n",
    "print(df.head())"
   ]
  },
  {
   "cell_type": "code",
   "execution_count": null,
   "metadata": {},
   "outputs": [],
   "source": [
    "from sklearn.model_selection import train_test_split\n",
    "X = df.drop('is_fraud', axis=1)\n",
    "y = df['is_fraud']\n",
    "\n",
    "# Train-test split\n",
    "X_train, X_test, y_train, y_test = train_test_split(X, y, test_size=0.2, random_state=42)\n",
    "\n",
    "print(f\"Training set size: {X_train.shape}\")\n",
    "print(f\"Test set size: {X_test.shape}\")"
   ]
  },
  {
   "cell_type": "code",
   "execution_count": null,
   "metadata": {},
   "outputs": [],
   "source": [
    "print(X_train.dtypes)\n",
    "print(X_test.dtypes)\n"
   ]
  },
  {
   "cell_type": "markdown",
   "metadata": {},
   "source": [
    "import the new-cleaned csv files for model selection and evalution "
   ]
  },
  {
   "cell_type": "markdown",
   "metadata": {},
   "source": [
    "Phase 4: Model Selection and Evaluation\n"
   ]
  },
  {
   "cell_type": "markdown",
   "metadata": {},
   "source": [
    "Train your models using a train/test split and apply appropriate\n",
    "evaluation metrics\n"
   ]
  },
  {
   "cell_type": "markdown",
   "metadata": {},
   "source": [
    "Implement evaluation metrics not included in standard libraries if\n",
    "applicable"
   ]
  },
  {
   "cell_type": "markdown",
   "metadata": {},
   "source": [
    "Choose a baseline model and test it"
   ]
  },
  {
   "cell_type": "markdown",
   "metadata": {},
   "source": [
    "Test at least three categories of learning models, such as:\n",
    "✓ Information-based models: Decision Trees, Random Forest\n",
    "✓ Similarity-based models: K-Nearest Neighbors\n",
    "✓ Probability-based models: Naive Bayes\n",
    "✓ Error-based models: Linear Regression, Logistic Regression\n"
   ]
  },
  {
   "cell_type": "code",
   "execution_count": null,
   "metadata": {},
   "outputs": [],
   "source": [
    "# Decision tree\n",
    "\n",
    "from sklearn.tree import DecisionTreeClassifier\n",
    "from sklearn.metrics import accuracy_score, precision_score, recall_score, f1_score, classification_report, confusion_matrix\n",
    "import pandas as pd\n",
    "import numpy as np\n",
    "\n",
    "\n",
    "# Training Decision Tree model\n",
    "dt_model = DecisionTreeClassifier(random_state=42)\n",
    "dt_model.fit(X_train, y_train)\n",
    "\n",
    "# making  predictions\n",
    "y_pred_dt = dt_model.predict(X_test)\n",
    "\n",
    "\n",
    "accuracy = accuracy_score(y_test, y_pred_dt)\n",
    "precision = precision_score(y_test, y_pred_dt, average='weighted')\n",
    "recall = recall_score(y_test, y_pred_dt, average='weighted')\n",
    "f1 = f1_score(y_test, y_pred_dt, average='weighted')\n",
    "\n",
    "# printing \n",
    "print(\"Decision Tree Accuracy:\", accuracy)\n",
    "print(\"Decision Tree Precision:\", precision)\n",
    "print(\"Decision Tree Recall:\", recall)\n",
    "print(\"Decision Tree F1 Score:\", f1)\n",
    "\n",
    "# confusion matrix\n",
    "print(\"\\nClassification Report:\\n\", classification_report(y_test, y_pred_dt))\n",
    "print(\"Confusion Matrix:\\n\", confusion_matrix(y_test, y_pred_dt))\n"
   ]
  },
  {
   "cell_type": "code",
   "execution_count": null,
   "metadata": {},
   "outputs": [],
   "source": [
    "# add visulizations \n",
    "\n",
    "from sklearn.tree import DecisionTreeClassifier, plot_tree\n",
    "import matplotlib.pyplot as plt\n",
    "\n",
    "# visualization plot\n",
    "plt.figure(figsize=(20, 10))  # Set figure size for clarity\n",
    "plot_tree(\n",
    "    dt_model,\n",
    "    feature_names=X_train.columns if isinstance(X_train, pd.DataFrame) else None,\n",
    "    class_names=[str(c) for c in dt_model.classes_],\n",
    "    filled=True,  \n",
    "    rounded=True,  \n",
    "    fontsize=10,  \n",
    ")\n",
    "plt.title(\"Decision Tree Visualization\")\n",
    "plt.show()\n"
   ]
  },
  {
   "cell_type": "code",
   "execution_count": null,
   "metadata": {},
   "outputs": [],
   "source": [
    "# decision tree\n",
    "from sklearn.preprocessing import StandardScaler\n",
    "scaler = StandardScaler()\n",
    "X_train_scaled = scaler.fit_transform(X_train) #fit data into dataset\n",
    "X_test_scaled = scaler.transform(X_test)#transform the test data\n",
    "\n",
    "\n",
    "from sklearn.tree import DecisionTreeClassifier\n",
    "from sklearn.metrics import accuracy_score, classification_report, confusion_matrix\n",
    "\n",
    "clf = DecisionTreeClassifier(random_state=42)#intialize the tree\n",
    "\n",
    "clf.fit(X_train_scaled, y_train)#training the model\n",
    "\n",
    "y_pred = clf.predict(X_test_scaled)# make predictions\n",
    "\n",
    "accuracy = accuracy_score(y_test, y_pred) #accuracy \n",
    "conf_matrix = confusion_matrix(y_test, y_pred) # confusion matrix \n",
    "class_report = classification_report(y_test, y_pred)\n",
    "\n",
    "print(\"Accuracy:\", accuracy)\n",
    "print(\"Confusion Matrix:\\n\", conf_matrix)\n",
    "print(\"Classification Report:\\n\", class_report)\n",
    "\n"
   ]
  },
  {
   "cell_type": "code",
   "execution_count": null,
   "metadata": {},
   "outputs": [],
   "source": [
    "# K-Nearest Neighbors\n",
    "\n",
    "from sklearn.neighbors import KNeighborsClassifier\n",
    "from sklearn.metrics import accuracy_score, precision_score, recall_score, f1_score, classification_report, confusion_matrix\n",
    "from sklearn.preprocessing import StandardScaler\n",
    "import pandas as pd\n",
    "import numpy as np\n",
    "\n",
    "# scaling  the data for KNN\n",
    "scaler = StandardScaler()\n",
    "X_train = scaler.fit_transform(X_train)\n",
    "X_test = scaler.transform(X_test)\n",
    "\n",
    "# Training the K-Nearest Neighbors model\n",
    "knn_model = KNeighborsClassifier(n_neighbors=5)  \n",
    "knn_model.fit(X_train, y_train)\n",
    "\n",
    "# making predictions\n",
    "y_pred_knn = knn_model.predict(X_test)\n",
    "\n",
    "\n",
    "accuracy = accuracy_score(y_test, y_pred_knn)\n",
    "precision = precision_score(y_test, y_pred_knn, average='weighted')  \n",
    "recall = recall_score(y_test, y_pred_knn, average='weighted')\n",
    "f1 = f1_score(y_test, y_pred_knn, average='weighted')\n",
    "\n",
    "\n",
    "print(\"K-Nearest Neighbors Accuracy:\", accuracy)\n",
    "print(\"K-Nearest Neighbors Precision:\", precision)\n",
    "print(\"K-Nearest Neighbors Recall:\", recall)\n",
    "print(\"K-Nearest Neighbors F1 Score:\", f1)\n",
    "\n",
    "print(\"\\nClassification Report:\\n\", classification_report(y_test, y_pred_knn))\n",
    "print(\"Confusion Matrix:\\n\", confusion_matrix(y_test, y_pred_knn))\n",
    "\n"
   ]
  },
  {
   "cell_type": "code",
   "execution_count": null,
   "metadata": {},
   "outputs": [],
   "source": [
    "# Logistic Regression\n",
    "\n",
    "\n",
    "from sklearn.preprocessing import StandardScaler\n",
    "\n",
    "scaler=StandardScaler()\n",
    "x_train=scaler.fit_transform(X_train)\n",
    "x_test=scaler.transform(X_test)\n",
    "\n",
    "from sklearn.linear_model import LogisticRegression\n",
    "from sklearn.metrics import accuracy_score\n",
    "from sklearn.model_selection import cross_val_score\n",
    "\n",
    "lr=LogisticRegression()\n",
    "lr.fit(x_train,y_train)\n",
    "\n",
    "y_train_pred = lr.predict(x_train)\n",
    "y_test_pred = lr.predict(x_test)\n",
    "\n",
    "train_accuracy = accuracy_score(y_train, y_train_pred)\n",
    "test_accuracy = accuracy_score(y_test, y_test_pred)\n",
    "\n",
    "\n",
    "cv_score = cross_val_score(lr, x_train, y_train, cv=5).mean()\n",
    "\n",
    "precision = precision_score(y_test, y_test_pred)\n",
    "recall = recall_score(y_test, y_test_pred)\n",
    "\n",
    "\n",
    "y_train=lr.predict(x_train)\n",
    "y_test=lr.predict(x_test)\n",
    "\n",
    "print(\"Training Accuracy:\", train_accuracy)\n",
    "print(\"Test Accuracy:\", test_accuracy)\n",
    "print(\"Cross-Validation Accuracy (mean):\", cv_score)\n",
    "print(\"Precision (Test Data):\", precision)\n",
    "print(\"Recall (Test Data):\", recall)"
   ]
  },
  {
   "cell_type": "code",
   "execution_count": null,
   "metadata": {},
   "outputs": [],
   "source": [
    "# Logistic Regression\n",
    "\n",
    "\n",
    "from sklearn.preprocessing import StandardScaler\n",
    "from sklearn.linear_model import LogisticRegression\n",
    "from sklearn.metrics import accuracy_score, precision_score, recall_score, classification_report\n",
    "from sklearn.model_selection import cross_val_score\n",
    "\n",
    "# Scale the features\n",
    "scaler = StandardScaler()\n",
    "x_train_scaled = scaler.fit_transform(X_train)\n",
    "x_test_scaled = scaler.transform(X_test)\n",
    "\n",
    "# Train the Logistic Regression model\n",
    "lr = LogisticRegression()\n",
    "lr.fit(x_train_scaled, y_train)\n",
    "\n",
    "# Predict on the training and test data\n",
    "y_train_pred = lr.predict(x_train_scaled)\n",
    "y_test_pred = lr.predict(x_test_scaled)\n",
    "\n",
    "# Calculate accuracies\n",
    "train_accuracy = accuracy_score(y_train, y_train_pred)\n",
    "test_accuracy = accuracy_score(y_test, y_test_pred)\n",
    "\n",
    "# Perform cross-validation\n",
    "cv_score = cross_val_score(lr, x_train_scaled, y_train, cv=5).mean()\n",
    "\n",
    "# Display the Classification Report for Test Data\n",
    "class_report = classification_report(y_test, y_test_pred)\n",
    "\n",
    "# Display metrics\n",
    "print(\"Training Accuracy:\", train_accuracy)\n",
    "print(\"Test Accuracy:\", test_accuracy)\n",
    "print(\"Cross-Validation Accuracy (mean):\", cv_score)\n",
    "print(\"Classification Report (Test Data):\")\n",
    "print(class_report)\n"
   ]
  },
  {
   "cell_type": "code",
   "execution_count": null,
   "metadata": {},
   "outputs": [],
   "source": [
    "# comparing model viz. ROC curve \n",
    "\n",
    "from sklearn.preprocessing import StandardScaler\n",
    "from sklearn.linear_model import LogisticRegression\n",
    "from sklearn.neighbors import KNeighborsClassifier\n",
    "from sklearn.tree import DecisionTreeClassifier\n",
    "from sklearn.metrics import roc_curve, roc_auc_score\n",
    "import matplotlib.pyplot as plt\n",
    "\n",
    "# Scale the features\n",
    "scaler = StandardScaler()\n",
    "X_train_scaled = scaler.fit_transform(X_train)\n",
    "X_test_scaled = scaler.transform(X_test)\n",
    "\n",
    "# Initialize models\n",
    "logistic_model = LogisticRegression()\n",
    "knn_model = KNeighborsClassifier(n_neighbors=5)\n",
    "decision_tree_model = DecisionTreeClassifier(random_state=42)\n",
    "\n",
    "# Train models\n",
    "logistic_model.fit(X_train_scaled, y_train)\n",
    "knn_model.fit(X_train_scaled, y_train)\n",
    "decision_tree_model.fit(X_train_scaled, y_train)\n",
    "\n",
    "# Get predicted probabilities for the positive class\n",
    "y_test_probs_lr = logistic_model.predict_proba(X_test_scaled)[:, 1]\n",
    "y_test_probs_knn = knn_model.predict_proba(X_test_scaled)[:, 1]\n",
    "y_test_probs_dt = decision_tree_model.predict_proba(X_test_scaled)[:, 1]\n",
    "\n",
    "# Compute ROC curves and AUC scores\n",
    "fpr_lr, tpr_lr, _ = roc_curve(y_test, y_test_probs_lr)\n",
    "auc_lr = roc_auc_score(y_test, y_test_probs_lr)\n",
    "\n",
    "fpr_knn, tpr_knn, _ = roc_curve(y_test, y_test_probs_knn)\n",
    "auc_knn = roc_auc_score(y_test, y_test_probs_knn)\n",
    "\n",
    "fpr_dt, tpr_dt, _ = roc_curve(y_test, y_test_probs_dt)\n",
    "auc_dt = roc_auc_score(y_test, y_test_probs_dt)\n",
    "\n",
    "# Plot ROC curves\n",
    "plt.figure(figsize=(10, 6))\n",
    "plt.plot(fpr_lr, tpr_lr, label=f\"Logistic Regression (AUC = {auc_lr:.2f})\", color='blue')\n",
    "plt.plot(fpr_knn, tpr_knn, label=f\"K-Nearest Neighbors (AUC = {auc_knn:.2f})\", color='green')\n",
    "plt.plot(fpr_dt, tpr_dt, label=f\"Decision Tree (AUC = {auc_dt:.2f})\", color='orange')\n",
    "plt.plot([0, 1], [0, 1], color='red', linestyle='--', label=\"Random Classifier (AUC = 0.50)\")\n",
    "\n",
    "plt.title(\"ROC Curve Comparison\")\n",
    "plt.xlabel(\"False Positive Rate (FPR)\")\n",
    "plt.ylabel(\"True Positive Rate (TPR)\")\n",
    "plt.legend()\n",
    "plt.grid(alpha=0.3)\n",
    "plt.show()\n"
   ]
  },
  {
   "cell_type": "markdown",
   "metadata": {},
   "source": [
    "Apply hyper-parameter optimization (preferably using grid search)"
   ]
  },
  {
   "cell_type": "code",
   "execution_count": null,
   "metadata": {},
   "outputs": [],
   "source": [
    "# decision tree hyper-parameter\n",
    "\n",
    "from sklearn.model_selection import GridSearchCV\n",
    "\n",
    "# defening the parameter grid\n",
    "param_grid_dt = {\n",
    "'max_depth': [3, 5, 10, None],\n",
    "'min_samples_split': [2, 10, 20],\n",
    "'min_samples_leaf': [1, 5, 10]\n",
    "}\n",
    "\n",
    "dt_model = DecisionTreeClassifier(random_state=42) # intialize Decision Tree Classifier\n",
    "\n",
    "\n",
    "# intialize Grid Search with cross-validation\n",
    "grid_search = GridSearchCV(estimator=dt_model, param_grid=param_grid_dt, cv=5, scoring='accuracy', n_jobs=-1)\n",
    "\n",
    "\n",
    "grid_search.fit(X_train_scaled, y_train) # fitting grid search to the training data\n",
    "\n",
    "# Train the Decision Tree with the best parameters on the full training data\n",
    "best_dt_model = grid_search.best_estimator_\n",
    "\n",
    "# Make predictions on the test set\n",
    "y_pred_best = best_dt_model.predict(X_test_scaled)\n",
    "\n",
    "# Best parameters and best score\n",
    "print(\"Best parameters found:\", grid_search.best_params_)\n",
    "print(\"Best cross-validation accuracy:\", grid_search.best_score_)\n"
   ]
  },
  {
   "cell_type": "code",
   "execution_count": null,
   "metadata": {},
   "outputs": [],
   "source": [
    "# Logistical regression hyper-parameter"
   ]
  },
  {
   "cell_type": "code",
   "execution_count": null,
   "metadata": {},
   "outputs": [],
   "source": [
    "#  K-Nearest Neighbors hyper-parameter"
   ]
  },
  {
   "cell_type": "markdown",
   "metadata": {},
   "source": [
    "Select and justify the recommended model based on performance,\n",
    "interpretability, efficiency, etc"
   ]
  },
  {
   "cell_type": "markdown",
   "metadata": {},
   "source": [
    "Analyze model results, demonstrate relationships between features\n",
    "and the target variable, and recommend actions based on your find-\n",
    "ings"
   ]
  }
 ],
 "metadata": {
  "kernelspec": {
   "display_name": "Python 3",
   "language": "python",
   "name": "python3"
  },
  "language_info": {
   "codemirror_mode": {
    "name": "ipython",
    "version": 3
   },
   "file_extension": ".py",
   "mimetype": "text/x-python",
   "name": "python",
   "nbconvert_exporter": "python",
   "pygments_lexer": "ipython3",
   "version": "3.11.7"
  }
 },
 "nbformat": 4,
 "nbformat_minor": 2
}
