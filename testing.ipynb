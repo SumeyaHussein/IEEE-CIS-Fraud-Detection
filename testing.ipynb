{
 "cells": [
  {
   "cell_type": "markdown",
   "metadata": {},
   "source": [
    "# Load the dataset"
   ]
  },
  {
   "cell_type": "markdown",
   "metadata": {},
   "source": [
    "Phase 2: Business Understanding\n",
    "Define the business problem and select a suitable dataset.\n",
    "✓ Your solution should involve a supervised learning model unless otherwise approved.\n",
    "✓ Finalize the following: (1) Business Problem, (2) Dataset, and (3)Proposed analytics solution"
   ]
  },
  {
   "cell_type": "markdown",
   "metadata": {},
   "source": [
    "Phase 3: Data Understanding and Preparation\n",
    "✓ Explore the dataset, handle missing values and outliers, and apply\n",
    "necessary transformations.\n",
    "✓ Apply feature selection methods (ideally at least two). Limit the\n",
    "number of features to 20 unless more features are critical and sig-\n",
    "nificantly improve the model’s performance.\n",
    "✓ For non-tabular data (e.g., time series, images), consult with me for\n",
    "additional guidance.\n"
   ]
  },
  {
   "cell_type": "markdown",
   "metadata": {},
   "source": [
    "Phase 4: Model Selection and Evaluation\n",
    "✓ Train your models using a train/test split and apply appropriate\n",
    "evaluation metrics.\n",
    "✓ Implement evaluation metrics not included in standard libraries if\n",
    "applicable.\n",
    "✓ Choose a baseline model and test it\n",
    "✓ Test at least three categories of learning models, such as:\n",
    "✓ Information-based models: Decision Trees, Random Forest\n",
    "✓ Similarity-based models: K-Nearest Neighbors\n",
    "✓ Probability-based models: Naive Bayes\n",
    "✓ Error-based models: Linear Regression, Logistic Regression\n",
    "✓ You are encouraged to explore other models (not covered in our\n",
    "class).\n",
    "✓ Apply hyper-parameter optimization (preferably using grid search).\n",
    "✓ Select and justify the recommended model based on performance,\n",
    "interpretability, efficiency, etc"
   ]
  },
  {
   "cell_type": "markdown",
   "metadata": {},
   "source": [
    "Phase 5: Communicate Findings and Recommend an Action\n",
    "✓ Analyze model results, demonstrate relationships between features\n",
    "and the target variable, and recommend actions based on your find-\n",
    "ings.\n",
    "✓ Submit a final report and present your work in a 15-minute group\n",
    "presentation"
   ]
  },
  {
   "cell_type": "markdown",
   "metadata": {},
   "source": [
    "step to load the data from kaggle: https://www.kaggle.com/competitions/ieee-fraud-detection/data\n",
    "\n",
    "1. first make sure python is installed: \n",
    "python --version\n",
    "pip --version\n",
    "\n",
    "2. pip install kaggle\n",
    "\n",
    "3. download data from kaggle- go to data tab, accept conditions, dowload\n",
    "\n",
    "4. https://git-lfs.com/ for large csv files\n",
    "https://www.youtube.com/watch?v=LZv4qCllJRQ video for tutorial\n",
    "\n",
    "\n"
   ]
  }
 ],
 "metadata": {
  "language_info": {
   "name": "python"
  }
 },
 "nbformat": 4,
 "nbformat_minor": 2
}
