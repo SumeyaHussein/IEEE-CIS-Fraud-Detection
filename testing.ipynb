{
 "cells": [
  {
   "cell_type": "markdown",
   "metadata": {},
   "source": [
    "# Load the dataset"
   ]
  },
  {
   "cell_type": "code",
   "execution_count": null,
   "metadata": {
    "vscode": {
     "languageId": "plaintext"
    }
   },
   "outputs": [],
   "source": []
  },
  {
   "cell_type": "markdown",
   "metadata": {},
   "source": [
    "Phase 2: Business Understanding\n",
    "Define the business problem and select a suitable dataset.\n",
    "✓ Your solution should involve a supervised learning model unless otherwise approved.\n",
    "✓ Finalize the following: (1) Business Problem, (2) Dataset, and (3)Proposed analytics solution"
   ]
  },
  {
   "cell_type": "markdown",
   "metadata": {},
   "source": [
    "step to load the data from kaggle: https://www.kaggle.com/competitions/ieee-fraud-detection/data\n",
    "\n",
    "1. first make sure python is installed: \n",
    "python --version\n",
    "pip --version\n",
    "\n",
    "2. pip install kaggle\n",
    "\n",
    "3. download data from kaggle- go to data tab, accept conditions, dowload\n",
    "\n",
    "\n"
   ]
  },
  {
   "cell_type": "code",
   "execution_count": null,
   "metadata": {
    "vscode": {
     "languageId": "plaintext"
    }
   },
   "outputs": [],
   "source": []
  },
  {
   "cell_type": "code",
   "execution_count": null,
   "metadata": {
    "vscode": {
     "languageId": "plaintext"
    }
   },
   "outputs": [],
   "source": []
  }
 ],
 "metadata": {
  "language_info": {
   "name": "python"
  }
 },
 "nbformat": 4,
 "nbformat_minor": 2
}
